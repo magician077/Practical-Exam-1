{
 "cells": [
  {
   "cell_type": "code",
   "execution_count": null,
   "id": "d72fd4e9",
   "metadata": {},
   "outputs": [],
   "source": [
    "# Name:Mohit Kumar Rao\n",
    "# AIML\n"
   ]
  },
  {
   "cell_type": "code",
   "execution_count": 2,
   "id": "ecd9417a",
   "metadata": {},
   "outputs": [],
   "source": [
    "import pandas as pd\n",
    "import matplotlib.pyplot as plt\n",
    "import numpy as np\n",
    "from sklearn.model_selection import train_test_split\n",
    "from sklearn.preprocessing import LabelEncoder, StandardScaler, OneHotEncoder\n",
    "from tensorflow.keras.models import Sequential\n",
    "from tensorflow.keras.layers import Dense"
   ]
  },
  {
   "cell_type": "code",
   "execution_count": 3,
   "id": "fc4a9aeb",
   "metadata": {},
   "outputs": [],
   "source": [
    "# Load the train-data CSV file\n",
    "train_data = pd.read_csv('train-data.csv')\n",
    "\n",
    "# Load the test-data CSV file\n",
    "test_data = pd.read_csv('test-data.csv')"
   ]
  },
  {
   "cell_type": "code",
   "execution_count": 4,
   "id": "04d07bb5",
   "metadata": {},
   "outputs": [],
   "source": [
    "# Remove unnecessary columns (such as 'Unnamed: 0' and 'New_Price')\n",
    "train_data = train_data.drop(['Unnamed: 0', 'New_Price'], axis=1)\n",
    "test_data = test_data.drop(['Unnamed: 0', 'New_Price'], axis=1)"
   ]
  },
  {
   "cell_type": "code",
   "execution_count": 5,
   "id": "a2ae95e8",
   "metadata": {},
   "outputs": [],
   "source": [
    "# Add a flag column to differentiate train and test datasets\n",
    "train_data['Flag'] = 1\n",
    "test_data['Flag'] = 0"
   ]
  },
  {
   "cell_type": "code",
   "execution_count": 6,
   "id": "3ebc95dc",
   "metadata": {},
   "outputs": [],
   "source": [
    "# Combine train and test data for preprocessing\n",
    "combined_data = pd.concat([train_data, test_data])\n"
   ]
  },
  {
   "cell_type": "code",
   "execution_count": 7,
   "id": "c60e645e",
   "metadata": {},
   "outputs": [],
   "source": [
    "# Preprocess the data\n",
    "combined_data['Mileage'] = combined_data['Mileage'].str.extract('(\\d+\\.\\d+|\\d+)').astype(float)\n",
    "combined_data['Engine'] = combined_data['Engine'].str.extract('(\\d+)').astype(float).fillna(0).astype(int)\n",
    "combined_data['Power'] = combined_data['Power'].str.extract('(\\d+\\.\\d+|\\d+)').astype(float)"
   ]
  },
  {
   "cell_type": "code",
   "execution_count": 8,
   "id": "b0f47fce",
   "metadata": {},
   "outputs": [],
   "source": [
    "# Convert categorical columns to numerical using LabelEncoder\n",
    "label_encoder = LabelEncoder()\n",
    "categorical_cols = ['Name', 'Location', 'Fuel_Type', 'Transmission', 'Owner_Type']\n",
    "for col in categorical_cols:\n",
    "    combined_data[col] = label_encoder.fit_transform(combined_data[col])"
   ]
  },
  {
   "cell_type": "code",
   "execution_count": 9,
   "id": "412e4a43",
   "metadata": {},
   "outputs": [
    {
     "name": "stderr",
     "output_type": "stream",
     "text": [
      "C:\\Users\\mohit\\AppData\\Local\\Programs\\Python\\Python311\\Lib\\site-packages\\sklearn\\preprocessing\\_encoders.py:972: FutureWarning: `sparse` was renamed to `sparse_output` in version 1.2 and will be removed in 1.4. `sparse_output` is ignored unless you leave `sparse` to its default value.\n",
      "  warnings.warn(\n"
     ]
    }
   ],
   "source": [
    "# Perform one-hot encoding on the combined dataset\n",
    "onehot_encoder = OneHotEncoder(sparse=False)\n",
    "encoded_data = onehot_encoder.fit_transform(combined_data)"
   ]
  },
  {
   "cell_type": "code",
   "execution_count": 10,
   "id": "64c36df3",
   "metadata": {},
   "outputs": [],
   "source": [
    "# Split the combined data back into train and test datasets\n",
    "X_train = encoded_data[combined_data['Flag'] == 1, :-1]\n",
    "y_train = encoded_data[combined_data['Flag'] == 1, -1]\n",
    "X_test = encoded_data[combined_data['Flag'] == 0, :-1]\n"
   ]
  },
  {
   "cell_type": "code",
   "execution_count": 11,
   "id": "8a835494",
   "metadata": {},
   "outputs": [],
   "source": [
    "# Fill missing values with 0\n",
    "X_train = np.nan_to_num(X_train)\n",
    "y_train = np.nan_to_num(y_train)\n",
    "X_test = np.nan_to_num(X_test)"
   ]
  },
  {
   "cell_type": "code",
   "execution_count": 12,
   "id": "0ac89700",
   "metadata": {},
   "outputs": [],
   "source": [
    "# Scale the features\n",
    "scaler = StandardScaler()\n",
    "X_train_scaled = scaler.fit_transform(X_train)\n",
    "X_test_scaled = scaler.transform(X_test)"
   ]
  },
  {
   "cell_type": "code",
   "execution_count": 13,
   "id": "d2c25f91",
   "metadata": {},
   "outputs": [],
   "source": [
    "# Build the ANN model with ReLU activation\n",
    "model = Sequential()\n",
    "model.add(Dense(128, activation='relu', input_dim=X_train_scaled.shape[1]))\n",
    "model.add(Dense(64, activation='relu'))\n",
    "model.add(Dense(1, activation='relu'))"
   ]
  },
  {
   "cell_type": "code",
   "execution_count": 14,
   "id": "c9f72fc0",
   "metadata": {},
   "outputs": [],
   "source": [
    "# Compile the model\n",
    "model.compile(optimizer='adam', loss='mean_squared_error')"
   ]
  },
  {
   "cell_type": "code",
   "execution_count": 15,
   "id": "4f7619c3",
   "metadata": {},
   "outputs": [
    {
     "name": "stdout",
     "output_type": "stream",
     "text": [
      "Epoch 1/10\n",
      "189/189 [==============================] - 2s 10ms/step - loss: 0.2768\n",
      "Epoch 2/10\n",
      "189/189 [==============================] - 2s 10ms/step - loss: 0.3092\n",
      "Epoch 3/10\n",
      "189/189 [==============================] - 2s 11ms/step - loss: 0.1769\n",
      "Epoch 4/10\n",
      "189/189 [==============================] - 2s 10ms/step - loss: 0.0663\n",
      "Epoch 5/10\n",
      "189/189 [==============================] - 2s 10ms/step - loss: 0.0320\n",
      "Epoch 6/10\n",
      "189/189 [==============================] - 2s 11ms/step - loss: 0.0122\n",
      "Epoch 7/10\n",
      "189/189 [==============================] - 2s 10ms/step - loss: 0.0052\n",
      "Epoch 8/10\n",
      "189/189 [==============================] - 2s 11ms/step - loss: 0.0034\n",
      "Epoch 9/10\n",
      "189/189 [==============================] - 2s 10ms/step - loss: 0.0026\n",
      "Epoch 10/10\n",
      "189/189 [==============================] - 2s 10ms/step - loss: 0.0024\n"
     ]
    },
    {
     "data": {
      "text/plain": [
       "<keras.src.callbacks.History at 0x1c8942f7d90>"
      ]
     },
     "execution_count": 15,
     "metadata": {},
     "output_type": "execute_result"
    }
   ],
   "source": [
    "# Train the model\n",
    "model.fit(X_train_scaled, y_train, epochs=10, batch_size=32)"
   ]
  },
  {
   "cell_type": "code",
   "execution_count": 16,
   "id": "dfd5091b",
   "metadata": {},
   "outputs": [
    {
     "name": "stdout",
     "output_type": "stream",
     "text": [
      "39/39 [==============================] - 0s 2ms/step\n"
     ]
    }
   ],
   "source": [
    "# Predict on the test data\n",
    "predictions = model.predict(X_test_scaled)"
   ]
  },
  {
   "cell_type": "code",
   "execution_count": 17,
   "id": "0b2c00dd",
   "metadata": {},
   "outputs": [
    {
     "name": "stdout",
     "output_type": "stream",
     "text": [
      "[[0.6229848 ]\n",
      " [1.0078396 ]\n",
      " [1.0554951 ]\n",
      " ...\n",
      " [0.98170406]\n",
      " [1.0575209 ]\n",
      " [0.9957693 ]]\n"
     ]
    }
   ],
   "source": [
    "# Print the predicted prices\n",
    "print(predictions)"
   ]
  },
  {
   "cell_type": "code",
   "execution_count": null,
   "id": "53d3ac38",
   "metadata": {},
   "outputs": [],
   "source": []
  },
  {
   "cell_type": "code",
   "execution_count": 19,
   "id": "3f1ff2ef",
   "metadata": {},
   "outputs": [
    {
     "data": {
      "image/png": "[encoded data removed]",
      "text/plain": [
       "<Figure size 640x480 with 1 Axes>"
      ]
     },
     "metadata": {},
     "output_type": "display_data"
    }
   ],
   "source": [
    "# Plot the training loss\n",
    "plt.plot(history.history['loss'])\n",
    "plt.xlabel('Epoch')\n",
    "plt.ylabel('Loss')\n",
    "plt.title('Training Loss')\n",
    "plt.show()"
   ]
  }
 ],
 "metadata": {
  "kernelspec": {
   "display_name": "Python 3 (ipykernel)",
   "language": "python",
   "name": "python3"
  },
  "language_info": {
   "codemirror_mode": {
    "name": "ipython",
    "version": 3
   },
   "file_extension": ".py",
   "mimetype": "text/x-python",
   "name": "python",
   "nbconvert_exporter": "python",
   "pygments_lexer": "ipython3",
   "version": "3.11.4"
  }
 },
 "nbformat": 4,
 "nbformat_minor": 5
}
